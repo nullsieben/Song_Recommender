{
 "cells": [
  {
   "cell_type": "code",
   "execution_count": 1,
   "id": "72e62d4e-1f46-40db-ab77-478c2e8a8b9d",
   "metadata": {},
   "outputs": [],
   "source": [
    "# 1. import libraries\n",
    "import requests # to download html code\n",
    "from bs4 import BeautifulSoup # to navigate through the html code\n",
    "import pandas as pd\n",
    "import numpy as np\n",
    "import re"
   ]
  },
  {
   "cell_type": "code",
   "execution_count": 2,
   "id": "cadac3b0-ef45-4b8e-a5b1-0016de93d66b",
   "metadata": {},
   "outputs": [],
   "source": [
    "# 2. find url and store it in a variable\n",
    "url = \"https://www.billboard.com/charts/hot-100/\""
   ]
  },
  {
   "cell_type": "code",
   "execution_count": 3,
   "id": "037b4214-adcf-409e-870d-1a59e8ea2abc",
   "metadata": {},
   "outputs": [
    {
     "name": "stdout",
     "output_type": "stream",
     "text": [
      "200\n"
     ]
    }
   ],
   "source": [
    "# 3. download html with a get request. Use the function request.get() and store the output in response\n",
    "response = requests.get(url)\n",
    "# 200 status code means OK! response.status_code\n",
    "print(response.status_code)"
   ]
  },
  {
   "cell_type": "code",
   "execution_count": 4,
   "id": "8927c074-8beb-41e2-a316-1bbabd43bf02",
   "metadata": {},
   "outputs": [],
   "source": [
    "# 4.1. parse html (create the 'soup')\n",
    "soup = BeautifulSoup(response.text, 'html.parser')\n",
    "# 4.2. check that the html code looks like it should\n",
    "#print(soup.prettify())"
   ]
  },
  {
   "cell_type": "code",
   "execution_count": 31,
   "id": "f0fdf4e5-149d-486d-b6cd-bb6f947f9155",
   "metadata": {},
   "outputs": [],
   "source": [
    "text_0 = soup.select(\"a.c-title__link\")[0].get_text()"
   ]
  },
  {
   "cell_type": "code",
   "execution_count": 32,
   "id": "6d464349-dff6-4d51-9040-3c01b9dafddb",
   "metadata": {},
   "outputs": [
    {
     "data": {
      "text/plain": [
       "'\\n\\t\\n\\t\\t\\n\\t\\t\\t\\t\\tFlowers\\t\\t\\n\\t\\t\\t\\t\\t'"
      ]
     },
     "execution_count": 32,
     "metadata": {},
     "output_type": "execute_result"
    }
   ],
   "source": [
    "text_0"
   ]
  },
  {
   "cell_type": "code",
   "execution_count": 39,
   "id": "d83877aa-b78f-4325-8d44-5e4d794f5ec3",
   "metadata": {},
   "outputs": [],
   "source": [
    "text_1= soup.select(\"h3#title-of-a-story.c-title.a-no-trucate.a-font-primary-bold-s\")[0].get_text(strip=True)"
   ]
  },
  {
   "cell_type": "code",
   "execution_count": 43,
   "id": "78aab806-fc20-4f07-adf9-b91dafd34027",
   "metadata": {},
   "outputs": [
    {
     "data": {
      "text/plain": [
       "<h3 class=\"c-title a-no-trucate a-font-primary-bold-s u-letter-spacing-0021 u-font-size-23@tablet lrv-u-font-size-16 u-line-height-125 u-line-height-normal@mobile-max a-truncate-ellipsis u-max-width-245 u-max-width-230@tablet-only u-letter-spacing-0028@tablet\" id=\"title-of-a-story\">\n",
       "\n",
       "\t\n",
       "\t\n",
       "\t\t\n",
       "\t\t\t\t\tFlowers\t\t\n",
       "\t\n",
       "</h3>"
      ]
     },
     "execution_count": 43,
     "metadata": {},
     "output_type": "execute_result"
    }
   ],
   "source": [
    "soup.select(\"h3#title-of-a-story.c-title.a-no-trucate.a-font-primary-bold-s\")[0]"
   ]
  },
  {
   "cell_type": "code",
   "execution_count": 40,
   "id": "9a9ff4e1-d5c7-44f3-842d-fd51d0e32d17",
   "metadata": {},
   "outputs": [
    {
     "data": {
      "text/plain": [
       "'Flowers'"
      ]
     },
     "execution_count": 40,
     "metadata": {},
     "output_type": "execute_result"
    }
   ],
   "source": [
    "text_1"
   ]
  },
  {
   "cell_type": "code",
   "execution_count": 41,
   "id": "db45e6c5-98c5-48b8-8c5e-1945cfe3294c",
   "metadata": {},
   "outputs": [],
   "source": [
    "text_2= soup.select(\"h3#title-of-a-story.c-title.a-no-trucate.a-font-primary-bold-s\")[1].get_text(strip=True)"
   ]
  },
  {
   "cell_type": "code",
   "execution_count": 42,
   "id": "df14000c-7246-46ca-a314-1c0e3f346275",
   "metadata": {},
   "outputs": [
    {
     "data": {
      "text/plain": [
       "'Kill Bill'"
      ]
     },
     "execution_count": 42,
     "metadata": {},
     "output_type": "execute_result"
    }
   ],
   "source": [
    "text_2"
   ]
  },
  {
   "cell_type": "markdown",
   "id": "9b7fa494-e154-4483-9a77-dc6c69fdbd79",
   "metadata": {},
   "source": [
    "<h3 id=\"title-of-a-story\" class=\"c-title  a-no-trucate a-font-primary-bold-s u-letter-spacing-0021 u-font-size-23@tablet lrv-u-font-size-16 u-line-height-125 u-line-height-normal@mobile-max a-truncate-ellipsis u-max-width-245 u-max-width-230@tablet-only u-letter-spacing-0028@tablet\">\n",
    "\n",
    "\t\n",
    "\t\n",
    "\t\t\n",
    "\t\t\t\t\tFlowers\t\t\n",
    "\t\n",
    "</h3>"
   ]
  },
  {
   "cell_type": "markdown",
   "id": "cf3b7b05-e4b2-46da-b42f-2a213c79278a",
   "metadata": {},
   "source": [
    "<span class=\"c-label  a-no-trucate a-font-primary-s lrv-u-font-size-14@mobile-max u-line-height-normal@mobile-max u-letter-spacing-0021 lrv-u-display-block a-truncate-ellipsis-2line u-max-width-330 u-max-width-230@tablet-only u-font-size-20@tablet\">\n",
    "\t\n",
    "\tMiley Cyrus\n",
    "</span>"
   ]
  },
  {
   "cell_type": "code",
   "execution_count": 59,
   "id": "c495e960-1771-4564-b783-4c5031262e03",
   "metadata": {},
   "outputs": [],
   "source": [
    "name_1= soup.select(\"span.a-no-trucate.c-label\")[0].get_text(strip=True)"
   ]
  },
  {
   "cell_type": "code",
   "execution_count": 60,
   "id": "5e8e83cf-638e-4b43-9160-f69f90540b79",
   "metadata": {},
   "outputs": [
    {
     "data": {
      "text/plain": [
       "'Miley Cyrus'"
      ]
     },
     "execution_count": 60,
     "metadata": {},
     "output_type": "execute_result"
    }
   ],
   "source": [
    "name_1"
   ]
  },
  {
   "cell_type": "code",
   "execution_count": null,
   "id": "c7465321-dcb7-4f67-9f0f-272f1dae983a",
   "metadata": {},
   "outputs": [],
   "source": []
  }
 ],
 "metadata": {
  "kernelspec": {
   "display_name": "Python 3 (ipykernel)",
   "language": "python",
   "name": "python3"
  },
  "language_info": {
   "codemirror_mode": {
    "name": "ipython",
    "version": 3
   },
   "file_extension": ".py",
   "mimetype": "text/x-python",
   "name": "python",
   "nbconvert_exporter": "python",
   "pygments_lexer": "ipython3",
   "version": "3.9.12"
  }
 },
 "nbformat": 4,
 "nbformat_minor": 5
}
